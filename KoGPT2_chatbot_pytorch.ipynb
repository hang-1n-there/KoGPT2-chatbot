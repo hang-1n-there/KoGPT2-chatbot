{
  "cells": [
    {
      "cell_type": "code",
      "execution_count": 1,
      "metadata": {
        "colab": {
          "base_uri": "https://localhost:8080/",
          "height": 364
        },
        "colab_type": "code",
        "id": "sOqL-ERxwMDz",
        "outputId": "736237e4-5772-4a0a-d628-eca21a883317"
      },
      "outputs": [
        {
          "name": "stderr",
          "output_type": "stream",
          "text": [
            "'nvidia-smi'��(��) ���� �Ǵ� �ܺ� ����, ������ �� �ִ� ���α׷�, �Ǵ�\n",
            "��ġ ������ �ƴմϴ�.\n"
          ]
        }
      ],
      "source": [
        "# GPU 정보 \n",
        "!nvidia-smi"
      ]
    },
    {
      "cell_type": "code",
      "execution_count": 2,
      "metadata": {
        "colab": {
          "base_uri": "https://localhost:8080/",
          "height": 208
        },
        "colab_type": "code",
        "id": "P8W3gZk2ijYN",
        "outputId": "bc4ee445-1bf3-4af2-c433-375634918c7c"
      },
      "outputs": [
        {
          "name": "stderr",
          "output_type": "stream",
          "text": [
            "fatal: destination path 'KoGPT2-chatbot' already exists and is not an empty directory.\n"
          ]
        }
      ],
      "source": [
        "# KoGPT2-chatbot 소스 코드 복사\n",
        "!git clone --recurse-submodules https://github.com/haven-jeon/KoGPT2-chatbot.git"
      ]
    },
    {
      "cell_type": "code",
      "execution_count": 3,
      "metadata": {
        "colab": {
          "base_uri": "https://localhost:8080/",
          "height": 34
        },
        "colab_type": "code",
        "id": "e9ZweKmXiuaK",
        "outputId": "6cc6ce8b-105b-4f39-b865-22508865cf6c"
      },
      "outputs": [
        {
          "name": "stdout",
          "output_type": "stream",
          "text": [
            "c:\\Users\\USER\\OneDrive\\문서\\github관리\\Test\\KoGPT2-chatbot\n"
          ]
        }
      ],
      "source": [
        "# 폴더 이동\n",
        "%cd c:\\Users\\USER\\OneDrive\\문서\\github관리\\Test\\KoGPT2-chatbot"
      ]
    },
    {
      "cell_type": "code",
      "execution_count": 17,
      "metadata": {},
      "outputs": [
        {
          "name": "stdout",
          "output_type": "stream",
          "text": [
            "Requirement already satisfied: pandas in c:\\programdata\\anaconda3\\lib\\site-packages (from -r requirements.txt (line 1)) (1.4.2)\n",
            "Requirement already satisfied: pytorch_lightning==1.2.10 in c:\\programdata\\anaconda3\\lib\\site-packages (from -r requirements.txt (line 2)) (1.2.10)\n",
            "Requirement already satisfied: torch in c:\\programdata\\anaconda3\\lib\\site-packages (from -r requirements.txt (line 3)) (1.12.1)\n",
            "Requirement already satisfied: transformers==4.5.1 in c:\\programdata\\anaconda3\\lib\\site-packages (from -r requirements.txt (line 4)) (4.5.1)\n",
            "Requirement already satisfied: torchmetrics==0.2.0 in c:\\programdata\\anaconda3\\lib\\site-packages (from pytorch_lightning==1.2.10->-r requirements.txt (line 2)) (0.2.0)\n",
            "Requirement already satisfied: numpy>=1.16.6 in c:\\programdata\\anaconda3\\lib\\site-packages (from pytorch_lightning==1.2.10->-r requirements.txt (line 2)) (1.21.5)\n",
            "Requirement already satisfied: tensorboard!=2.5.0,>=2.2.0 in c:\\programdata\\anaconda3\\lib\\site-packages (from pytorch_lightning==1.2.10->-r requirements.txt (line 2)) (2.2.0)\n",
            "Requirement already satisfied: PyYAML!=5.4.*,>=5.1 in c:\\programdata\\anaconda3\\lib\\site-packages (from pytorch_lightning==1.2.10->-r requirements.txt (line 2)) (6.0)\n",
            "Requirement already satisfied: packaging in c:\\programdata\\anaconda3\\lib\\site-packages (from pytorch_lightning==1.2.10->-r requirements.txt (line 2)) (21.3)\n",
            "Requirement already satisfied: tqdm>=4.41.0 in c:\\programdata\\anaconda3\\lib\\site-packages (from pytorch_lightning==1.2.10->-r requirements.txt (line 2)) (4.64.0)\n",
            "Requirement already satisfied: future>=0.17.1 in c:\\programdata\\anaconda3\\lib\\site-packages (from pytorch_lightning==1.2.10->-r requirements.txt (line 2)) (0.18.2)\n",
            "Requirement already satisfied: fsspec[http]>=0.8.1 in c:\\programdata\\anaconda3\\lib\\site-packages (from pytorch_lightning==1.2.10->-r requirements.txt (line 2)) (2022.2.0)\n",
            "Requirement already satisfied: tokenizers<0.11,>=0.10.1 in c:\\programdata\\anaconda3\\lib\\site-packages (from transformers==4.5.1->-r requirements.txt (line 4)) (0.10.3)\n",
            "Requirement already satisfied: sacremoses in c:\\programdata\\anaconda3\\lib\\site-packages (from transformers==4.5.1->-r requirements.txt (line 4)) (0.0.53)\n",
            "Requirement already satisfied: requests in c:\\programdata\\anaconda3\\lib\\site-packages (from transformers==4.5.1->-r requirements.txt (line 4)) (2.27.1)\n",
            "Requirement already satisfied: regex!=2019.12.17 in c:\\programdata\\anaconda3\\lib\\site-packages (from transformers==4.5.1->-r requirements.txt (line 4)) (2022.3.15)\n",
            "Requirement already satisfied: filelock in c:\\programdata\\anaconda3\\lib\\site-packages (from transformers==4.5.1->-r requirements.txt (line 4)) (3.6.0)\n",
            "Requirement already satisfied: python-dateutil>=2.8.1 in c:\\programdata\\anaconda3\\lib\\site-packages (from pandas->-r requirements.txt (line 1)) (2.8.2)\n",
            "Requirement already satisfied: pytz>=2020.1 in c:\\programdata\\anaconda3\\lib\\site-packages (from pandas->-r requirements.txt (line 1)) (2021.3)\n",
            "Requirement already satisfied: typing_extensions in c:\\programdata\\anaconda3\\lib\\site-packages (from torch->-r requirements.txt (line 3)) (4.1.1)\n",
            "Requirement already satisfied: aiohttp in c:\\programdata\\anaconda3\\lib\\site-packages (from fsspec[http]>=0.8.1->pytorch_lightning==1.2.10->-r requirements.txt (line 2)) (3.8.1)\n",
            "Requirement already satisfied: six>=1.5 in c:\\programdata\\anaconda3\\lib\\site-packages (from python-dateutil>=2.8.1->pandas->-r requirements.txt (line 1)) (1.16.0)\n",
            "Requirement already satisfied: wheel>=0.26 in c:\\programdata\\anaconda3\\lib\\site-packages (from tensorboard!=2.5.0,>=2.2.0->pytorch_lightning==1.2.10->-r requirements.txt (line 2)) (0.37.1)\n",
            "Requirement already satisfied: setuptools>=41.0.0 in c:\\programdata\\anaconda3\\lib\\site-packages (from tensorboard!=2.5.0,>=2.2.0->pytorch_lightning==1.2.10->-r requirements.txt (line 2)) (61.2.0)\n",
            "Requirement already satisfied: tensorboard-plugin-wit>=1.6.0 in c:\\programdata\\anaconda3\\lib\\site-packages (from tensorboard!=2.5.0,>=2.2.0->pytorch_lightning==1.2.10->-r requirements.txt (line 2)) (1.8.1)\n",
            "Requirement already satisfied: google-auth-oauthlib<0.5,>=0.4.1 in c:\\programdata\\anaconda3\\lib\\site-packages (from tensorboard!=2.5.0,>=2.2.0->pytorch_lightning==1.2.10->-r requirements.txt (line 2)) (0.4.6)\n",
            "Requirement already satisfied: markdown>=2.6.8 in c:\\programdata\\anaconda3\\lib\\site-packages (from tensorboard!=2.5.0,>=2.2.0->pytorch_lightning==1.2.10->-r requirements.txt (line 2)) (3.3.4)\n",
            "Requirement already satisfied: grpcio>=1.24.3 in c:\\programdata\\anaconda3\\lib\\site-packages (from tensorboard!=2.5.0,>=2.2.0->pytorch_lightning==1.2.10->-r requirements.txt (line 2)) (1.42.0)\n",
            "Requirement already satisfied: protobuf>=3.6.0 in c:\\programdata\\anaconda3\\lib\\site-packages (from tensorboard!=2.5.0,>=2.2.0->pytorch_lightning==1.2.10->-r requirements.txt (line 2)) (3.19.1)\n",
            "Requirement already satisfied: werkzeug>=0.11.15 in c:\\programdata\\anaconda3\\lib\\site-packages (from tensorboard!=2.5.0,>=2.2.0->pytorch_lightning==1.2.10->-r requirements.txt (line 2)) (2.0.3)\n",
            "Requirement already satisfied: absl-py>=0.4 in c:\\programdata\\anaconda3\\lib\\site-packages (from tensorboard!=2.5.0,>=2.2.0->pytorch_lightning==1.2.10->-r requirements.txt (line 2)) (1.4.0)\n",
            "Requirement already satisfied: google-auth<2,>=1.6.3 in c:\\programdata\\anaconda3\\lib\\site-packages (from tensorboard!=2.5.0,>=2.2.0->pytorch_lightning==1.2.10->-r requirements.txt (line 2)) (1.33.0)\n",
            "Requirement already satisfied: pyasn1-modules>=0.2.1 in c:\\programdata\\anaconda3\\lib\\site-packages (from google-auth<2,>=1.6.3->tensorboard!=2.5.0,>=2.2.0->pytorch_lightning==1.2.10->-r requirements.txt (line 2)) (0.2.8)\n",
            "Requirement already satisfied: rsa<5,>=3.1.4 in c:\\programdata\\anaconda3\\lib\\site-packages (from google-auth<2,>=1.6.3->tensorboard!=2.5.0,>=2.2.0->pytorch_lightning==1.2.10->-r requirements.txt (line 2)) (4.7.2)\n",
            "Requirement already satisfied: cachetools<5.0,>=2.0.0 in c:\\programdata\\anaconda3\\lib\\site-packages (from google-auth<2,>=1.6.3->tensorboard!=2.5.0,>=2.2.0->pytorch_lightning==1.2.10->-r requirements.txt (line 2)) (4.2.2)\n",
            "Requirement already satisfied: requests-oauthlib>=0.7.0 in c:\\programdata\\anaconda3\\lib\\site-packages (from google-auth-oauthlib<0.5,>=0.4.1->tensorboard!=2.5.0,>=2.2.0->pytorch_lightning==1.2.10->-r requirements.txt (line 2)) (1.3.1)\n",
            "Requirement already satisfied: pyasn1<0.5.0,>=0.4.6 in c:\\programdata\\anaconda3\\lib\\site-packages (from pyasn1-modules>=0.2.1->google-auth<2,>=1.6.3->tensorboard!=2.5.0,>=2.2.0->pytorch_lightning==1.2.10->-r requirements.txt (line 2)) (0.4.8)\n",
            "Requirement already satisfied: idna<4,>=2.5 in c:\\programdata\\anaconda3\\lib\\site-packages (from requests->transformers==4.5.1->-r requirements.txt (line 4)) (3.3)\n",
            "Requirement already satisfied: charset-normalizer~=2.0.0 in c:\\programdata\\anaconda3\\lib\\site-packages (from requests->transformers==4.5.1->-r requirements.txt (line 4)) (2.0.4)\n",
            "Requirement already satisfied: urllib3<1.27,>=1.21.1 in c:\\programdata\\anaconda3\\lib\\site-packages (from requests->transformers==4.5.1->-r requirements.txt (line 4)) (1.26.9)\n",
            "Requirement already satisfied: certifi>=2017.4.17 in c:\\programdata\\anaconda3\\lib\\site-packages (from requests->transformers==4.5.1->-r requirements.txt (line 4)) (2021.10.8)\n",
            "Requirement already satisfied: oauthlib>=3.0.0 in c:\\programdata\\anaconda3\\lib\\site-packages (from requests-oauthlib>=0.7.0->google-auth-oauthlib<0.5,>=0.4.1->tensorboard!=2.5.0,>=2.2.0->pytorch_lightning==1.2.10->-r requirements.txt (line 2)) (3.2.2)\n",
            "Requirement already satisfied: colorama in c:\\programdata\\anaconda3\\lib\\site-packages (from tqdm>=4.41.0->pytorch_lightning==1.2.10->-r requirements.txt (line 2)) (0.4.4)\n",
            "Requirement already satisfied: frozenlist>=1.1.1 in c:\\programdata\\anaconda3\\lib\\site-packages (from aiohttp->fsspec[http]>=0.8.1->pytorch_lightning==1.2.10->-r requirements.txt (line 2)) (1.2.0)\n",
            "Requirement already satisfied: yarl<2.0,>=1.0 in c:\\programdata\\anaconda3\\lib\\site-packages (from aiohttp->fsspec[http]>=0.8.1->pytorch_lightning==1.2.10->-r requirements.txt (line 2)) (1.6.3)\n",
            "Requirement already satisfied: multidict<7.0,>=4.5 in c:\\programdata\\anaconda3\\lib\\site-packages (from aiohttp->fsspec[http]>=0.8.1->pytorch_lightning==1.2.10->-r requirements.txt (line 2)) (5.1.0)\n",
            "Requirement already satisfied: async-timeout<5.0,>=4.0.0a3 in c:\\programdata\\anaconda3\\lib\\site-packages (from aiohttp->fsspec[http]>=0.8.1->pytorch_lightning==1.2.10->-r requirements.txt (line 2)) (4.0.1)\n",
            "Requirement already satisfied: attrs>=17.3.0 in c:\\programdata\\anaconda3\\lib\\site-packages (from aiohttp->fsspec[http]>=0.8.1->pytorch_lightning==1.2.10->-r requirements.txt (line 2)) (21.4.0)\n",
            "Requirement already satisfied: aiosignal>=1.1.2 in c:\\programdata\\anaconda3\\lib\\site-packages (from aiohttp->fsspec[http]>=0.8.1->pytorch_lightning==1.2.10->-r requirements.txt (line 2)) (1.2.0)\n",
            "Requirement already satisfied: pyparsing!=3.0.5,>=2.0.2 in c:\\programdata\\anaconda3\\lib\\site-packages (from packaging->pytorch_lightning==1.2.10->-r requirements.txt (line 2)) (3.0.4)\n",
            "Requirement already satisfied: click in c:\\programdata\\anaconda3\\lib\\site-packages (from sacremoses->transformers==4.5.1->-r requirements.txt (line 4)) (8.0.4)\n",
            "Requirement already satisfied: joblib in c:\\programdata\\anaconda3\\lib\\site-packages (from sacremoses->transformers==4.5.1->-r requirements.txt (line 4)) (1.1.0)\n"
          ]
        }
      ],
      "source": [
        "!pip install -r requirements.txt"
      ]
    },
    {
      "cell_type": "code",
      "execution_count": 2,
      "metadata": {
        "colab": {
          "base_uri": "https://localhost:8080/",
          "height": 732
        },
        "colab_type": "code",
        "id": "xKMZv-ZsiqkB",
        "outputId": "7cf55491-8fbd-4201-a849-9616b638d3d5"
      },
      "outputs": [
        {
          "name": "stderr",
          "output_type": "stream",
          "text": [
            "'CUDA_VISIBLE_DEVICES'��(��) ���� �Ǵ� �ܺ� ����, ������ �� �ִ� ���α׷�, �Ǵ�\n",
            "��ġ ������ �ƴմϴ�.\n"
          ]
        }
      ],
      "source": [
        "# 사전훈련된 KoGPT2를 챗봇 데이터로 파인튜닝\n",
        "!CUDA_VISIBLE_DEVICES=0 python train_torch.py --train --gpus 0 --max_epochs 2"
      ]
    },
    {
      "cell_type": "code",
      "execution_count": 3,
      "metadata": {
        "colab": {
          "base_uri": "https://localhost:8080/",
          "height": 330
        },
        "colab_type": "code",
        "id": "f3yDcidi6wFA",
        "outputId": "b66e761c-3731-4f82-ce8b-411a65a7363d"
      },
      "outputs": [
        {
          "name": "stderr",
          "output_type": "stream",
          "text": [
            "'CUDA_VISIBLE_DEVICES'��(��) ���� �Ǵ� �ܺ� ����, ������ �� �ִ� ���α׷�, �Ǵ�\n",
            "��ġ ������ �ƴմϴ�.\n"
          ]
        }
      ],
      "source": [
        "# 대화 테스트, `quit`를 입력하면 대화를 종료합니다.\n",
        "!CUDA_VISIBLE_DEVICES=0 python train_torch.py --gpus 0 --chat"
      ]
    },
    {
      "cell_type": "code",
      "execution_count": 1,
      "metadata": {},
      "outputs": [
        {
          "name": "stdout",
          "output_type": "stream",
          "text": [
            "\n",
            "Training: 0it [00:00, ?it/s]\n",
            "Training:   0%|          | 0/124 [00:00<?, ?it/s]\n",
            "Epoch 0:   0%|          | 0/124 [00:00<?, ?it/s] \n",
            "Epoch 0:   0%|          | 0/124 [00:06<?, ?it/s]\n"
          ]
        },
        {
          "name": "stderr",
          "output_type": "stream",
          "text": [
            "INFO:root:Namespace(chat=False, sentiment='0', model_params='model_chp/model_-last.ckpt', train=True, max_len=32, batch_size=96, lr=5e-05, warmup_ratio=0.1, logger=True, checkpoint_callback=True, default_root_dir=None, gradient_clip_val=0, process_position=0, num_nodes=1, num_processes=1, gpus=0, auto_select_gpus=False, tpu_cores=None, log_gpu_memory=None, progress_bar_refresh_rate=None, overfit_batches=0.0, track_grad_norm=-1, check_val_every_n_epoch=1, fast_dev_run=False, accumulate_grad_batches=1, max_epochs=2, min_epochs=None, max_steps=None, min_steps=None, limit_train_batches=1.0, limit_val_batches=1.0, limit_test_batches=1.0, limit_predict_batches=1.0, val_check_interval=1.0, flush_logs_every_n_steps=100, log_every_n_steps=50, accelerator='ddp', sync_batchnorm=False, precision=32, weights_summary='top', weights_save_path=None, num_sanity_val_steps=2, truncated_bptt_steps=None, resume_from_checkpoint=None, profiler=None, benchmark=False, deterministic=False, reload_dataloaders_every_epoch=False, auto_lr_find=False, replace_sampler_ddp=True, terminate_on_nan=False, auto_scale_batch_size=False, prepare_data_per_node=True, plugins=None, amp_backend='native', amp_level='O2', distributed_backend=None, automatic_optimization=None, move_metrics_to_cpu=False, enable_pl_optimizer=None, multiple_trainloader_mode='max_size_cycle', stochastic_weight_avg=False)\n",
            "c:\\ProgramData\\Anaconda3\\lib\\site-packages\\pytorch_lightning\\utilities\\distributed.py:68: UserWarning: You requested distributed training on GPUs, but none is available, so we set backend to `ddp_cpu`.\n",
            "  warnings.warn(*args, **kwargs)\n",
            "c:\\ProgramData\\Anaconda3\\lib\\site-packages\\pytorch_lightning\\utilities\\distributed.py:68: UserWarning: You are running on single node with no parallelization, so distributed has no effect.\n",
            "  warnings.warn(*args, **kwargs)\n",
            "GPU available: False, used: False\n",
            "TPU available: False, using: 0 TPU cores\n",
            "\n",
            "  | Name          | Type             | Params\n",
            "---------------------------------------------------\n",
            "0 | kogpt2        | GPT2LMHeadModel  | 125 M \n",
            "1 | loss_function | CrossEntropyLoss | 0     \n",
            "---------------------------------------------------\n",
            "125 M     Trainable params\n",
            "0         Non-trainable params\n",
            "125 M     Total params\n",
            "500.656   Total estimated model params size (MB)\n",
            "INFO:root:Namespace(chat=False, sentiment='0', model_params='model_chp/model_-last.ckpt', train=True, max_len=32, batch_size=96, lr=5e-05, warmup_ratio=0.1, logger=True, checkpoint_callback=True, default_root_dir=None, gradient_clip_val=0, process_position=0, num_nodes=1, num_processes=1, gpus=0, auto_select_gpus=False, tpu_cores=None, log_gpu_memory=None, progress_bar_refresh_rate=None, overfit_batches=0.0, track_grad_norm=-1, check_val_every_n_epoch=1, fast_dev_run=False, accumulate_grad_batches=1, max_epochs=2, min_epochs=None, max_steps=None, min_steps=None, limit_train_batches=1.0, limit_val_batches=1.0, limit_test_batches=1.0, limit_predict_batches=1.0, val_check_interval=1.0, flush_logs_every_n_steps=100, log_every_n_steps=50, accelerator='ddp', sync_batchnorm=False, precision=32, weights_summary='top', weights_save_path=None, num_sanity_val_steps=2, truncated_bptt_steps=None, resume_from_checkpoint=None, profiler=None, benchmark=False, deterministic=False, reload_dataloaders_every_epoch=False, auto_lr_find=False, replace_sampler_ddp=True, terminate_on_nan=False, auto_scale_batch_size=False, prepare_data_per_node=True, plugins=None, amp_backend='native', amp_level='O2', distributed_backend=None, automatic_optimization=None, move_metrics_to_cpu=False, enable_pl_optimizer=None, multiple_trainloader_mode='max_size_cycle', stochastic_weight_avg=False)\n",
            "Traceback (most recent call last):\n",
            "  File \"<string>\", line 1, in <module>\n",
            "  File \"c:\\ProgramData\\Anaconda3\\lib\\multiprocessing\\spawn.py\", line 116, in spawn_main\n",
            "    exitcode = _main(fd, parent_sentinel)\n",
            "  File \"c:\\ProgramData\\Anaconda3\\lib\\multiprocessing\\spawn.py\", line 126, in _main\n",
            "    self = reduction.pickle.load(from_parent)\n",
            "EOFError: Ran out of input\n",
            "Traceback (most recent call last):\n",
            "  File \"c:\\Users\\USER\\OneDrive\\문서\\github관리\\Test\\KoGPT2-chatbot\\train_torch.py\", line 238, in <module>\n",
            "    trainer.fit(model)\n",
            "  File \"c:\\ProgramData\\Anaconda3\\lib\\site-packages\\pytorch_lightning\\trainer\\trainer.py\", line 499, in fit\n",
            "    self.dispatch()\n",
            "  File \"c:\\ProgramData\\Anaconda3\\lib\\site-packages\\pytorch_lightning\\trainer\\trainer.py\", line 546, in dispatch\n",
            "    self.accelerator.start_training(self)\n",
            "  File \"c:\\ProgramData\\Anaconda3\\lib\\site-packages\\pytorch_lightning\\accelerators\\accelerator.py\", line 73, in start_training\n",
            "    self.training_type_plugin.start_training(trainer)\n",
            "  File \"c:\\ProgramData\\Anaconda3\\lib\\site-packages\\pytorch_lightning\\plugins\\training_type\\training_type_plugin.py\", line 114, in start_training\n",
            "    self._results = trainer.run_train()\n",
            "  File \"c:\\ProgramData\\Anaconda3\\lib\\site-packages\\pytorch_lightning\\trainer\\trainer.py\", line 637, in run_train\n",
            "    self.train_loop.run_training_epoch()\n",
            "  File \"c:\\ProgramData\\Anaconda3\\lib\\site-packages\\pytorch_lightning\\trainer\\training_loop.py\", line 484, in run_training_epoch\n",
            "    for batch_idx, (batch, is_last_batch) in train_dataloader:\n",
            "  File \"c:\\ProgramData\\Anaconda3\\lib\\site-packages\\pytorch_lightning\\profiler\\profilers.py\", line 82, in profile_iterable\n",
            "    value = next(iterator)\n",
            "  File \"c:\\ProgramData\\Anaconda3\\lib\\site-packages\\pytorch_lightning\\trainer\\connectors\\data_connector.py\", line 47, in _with_is_last\n",
            "    last = next(it)\n",
            "  File \"c:\\ProgramData\\Anaconda3\\lib\\site-packages\\pytorch_lightning\\trainer\\supporters.py\", line 470, in __next__\n",
            "    return self.request_next_batch(self.loader_iters)\n",
            "  File \"c:\\ProgramData\\Anaconda3\\lib\\site-packages\\pytorch_lightning\\trainer\\supporters.py\", line 455, in loader_iters\n",
            "    self._loader_iters = self.create_loader_iters(self.loaders)\n",
            "  File \"c:\\ProgramData\\Anaconda3\\lib\\site-packages\\pytorch_lightning\\trainer\\supporters.py\", line 501, in create_loader_iters\n",
            "    return apply_to_collection(loaders, Iterable, iter, wrong_dtype=(Sequence, Mapping))\n",
            "  File \"c:\\ProgramData\\Anaconda3\\lib\\site-packages\\pytorch_lightning\\utilities\\apply_func.py\", line 84, in apply_to_collection\n",
            "    return function(data, *args, **kwargs)\n",
            "  File \"c:\\ProgramData\\Anaconda3\\lib\\site-packages\\torch\\utils\\data\\dataloader.py\", line 444, in __iter__\n",
            "    return self._get_iterator()\n",
            "  File \"c:\\ProgramData\\Anaconda3\\lib\\site-packages\\torch\\utils\\data\\dataloader.py\", line 390, in _get_iterator\n",
            "    return _MultiProcessingDataLoaderIter(self)\n",
            "  File \"c:\\ProgramData\\Anaconda3\\lib\\site-packages\\torch\\utils\\data\\dataloader.py\", line 1077, in __init__\n",
            "    w.start()\n",
            "  File \"c:\\ProgramData\\Anaconda3\\lib\\multiprocessing\\process.py\", line 121, in start\n",
            "    self._popen = self._Popen(self)\n",
            "  File \"c:\\ProgramData\\Anaconda3\\lib\\multiprocessing\\context.py\", line 224, in _Popen\n",
            "    return _default_context.get_context().Process._Popen(process_obj)\n",
            "  File \"c:\\ProgramData\\Anaconda3\\lib\\multiprocessing\\context.py\", line 327, in _Popen\n",
            "    return Popen(process_obj)\n",
            "  File \"c:\\ProgramData\\Anaconda3\\lib\\multiprocessing\\popen_spawn_win32.py\", line 93, in __init__\n",
            "    reduction.dump(process_obj, to_child)\n",
            "  File \"c:\\ProgramData\\Anaconda3\\lib\\multiprocessing\\reduction.py\", line 60, in dump\n",
            "    ForkingPickler(file, protocol).dump(obj)\n",
            "AttributeError: Can't pickle local object 'get_cosine_schedule_with_warmup.<locals>.lr_lambda'\n"
          ]
        }
      ],
      "source": [
        "!python train_torch.py --train --gpus 0 --max_epochs 2 --accelerator ddp"
      ]
    },
    {
      "cell_type": "code",
      "execution_count": 4,
      "metadata": {},
      "outputs": [
        {
          "name": "stderr",
          "output_type": "stream",
          "text": [
            "Traceback (most recent call last):\n",
            "  File \"c:\\Users\\USER\\OneDrive\\문서\\github관리\\Test\\KoGPT2-chatbot\\train_torch.py\", line 8, in <module>\n",
            "    from pytorch_lightning import Trainer\n",
            "  File \"c:\\ProgramData\\Anaconda3\\lib\\site-packages\\pytorch_lightning\\__init__.py\", line 28, in <module>\n",
            "    from pytorch_lightning import metrics  # noqa: E402\n",
            "  File \"c:\\ProgramData\\Anaconda3\\lib\\site-packages\\pytorch_lightning\\metrics\\__init__.py\", line 14, in <module>\n",
            "    from pytorch_lightning.metrics.classification import (  # noqa: F401\n",
            "  File \"c:\\ProgramData\\Anaconda3\\lib\\site-packages\\pytorch_lightning\\metrics\\classification\\__init__.py\", line 14, in <module>\n",
            "    from pytorch_lightning.metrics.classification.accuracy import Accuracy  # noqa: F401\n",
            "  File \"c:\\ProgramData\\Anaconda3\\lib\\site-packages\\pytorch_lightning\\metrics\\classification\\accuracy.py\", line 18, in <module>\n",
            "    from pytorch_lightning.metrics.functional.accuracy import _accuracy_compute, _accuracy_update\n",
            "  File \"c:\\ProgramData\\Anaconda3\\lib\\site-packages\\pytorch_lightning\\metrics\\functional\\__init__.py\", line 14, in <module>\n",
            "    from pytorch_lightning.metrics.functional.accuracy import accuracy  # noqa: F401\n",
            "  File \"c:\\ProgramData\\Anaconda3\\lib\\site-packages\\pytorch_lightning\\metrics\\functional\\accuracy.py\", line 18, in <module>\n",
            "    from pytorch_lightning.metrics.classification.helpers import _input_format_classification, DataType\n",
            "  File \"c:\\ProgramData\\Anaconda3\\lib\\site-packages\\pytorch_lightning\\metrics\\classification\\helpers.py\", line 19, in <module>\n",
            "    from pytorch_lightning.metrics.utils import select_topk, to_onehot\n",
            "  File \"c:\\ProgramData\\Anaconda3\\lib\\site-packages\\pytorch_lightning\\metrics\\utils.py\", line 18, in <module>\n",
            "    from pytorch_lightning.utilities import rank_zero_warn\n",
            "  File \"c:\\ProgramData\\Anaconda3\\lib\\site-packages\\pytorch_lightning\\utilities\\__init__.py\", line 18, in <module>\n",
            "    from pytorch_lightning.utilities.apply_func import move_data_to_device  # noqa: F401\n",
            "  File \"c:\\ProgramData\\Anaconda3\\lib\\site-packages\\pytorch_lightning\\utilities\\apply_func.py\", line 28, in <module>\n",
            "    if _compare_version(\"torchtext\", operator.ge, \"0.9.0\"):\n",
            "  File \"c:\\ProgramData\\Anaconda3\\lib\\site-packages\\pytorch_lightning\\utilities\\imports.py\", line 52, in _compare_version\n",
            "    pkg = importlib.import_module(package)\n",
            "  File \"c:\\ProgramData\\Anaconda3\\lib\\importlib\\__init__.py\", line 127, in import_module\n",
            "    return _bootstrap._gcd_import(name[level:], package, level)\n",
            "  File \"c:\\ProgramData\\Anaconda3\\lib\\site-packages\\torchtext\\__init__.py\", line 6, in <module>\n",
            "    from torchtext import _extension  # noqa: F401\n",
            "  File \"c:\\ProgramData\\Anaconda3\\lib\\site-packages\\torchtext\\_extension.py\", line 64, in <module>\n",
            "    _init_extension()\n",
            "  File \"c:\\ProgramData\\Anaconda3\\lib\\site-packages\\torchtext\\_extension.py\", line 58, in _init_extension\n",
            "    _load_lib(\"libtorchtext\")\n",
            "  File \"c:\\ProgramData\\Anaconda3\\lib\\site-packages\\torchtext\\_extension.py\", line 50, in _load_lib\n",
            "    torch.ops.load_library(path)\n",
            "  File \"c:\\ProgramData\\Anaconda3\\lib\\site-packages\\torch\\_ops.py\", line 643, in load_library\n",
            "    ctypes.CDLL(path)\n",
            "  File \"c:\\ProgramData\\Anaconda3\\lib\\ctypes\\__init__.py\", line 382, in __init__\n",
            "    self._handle = _dlopen(self._name, mode)\n",
            "OSError: [WinError 127] 지정된 프로시저를 찾을 수 없습니다\n"
          ]
        }
      ],
      "source": [
        "!python train_torch.py --gpus 2 --chat"
      ]
    }
  ],
  "metadata": {
    "accelerator": "GPU",
    "colab": {
      "collapsed_sections": [],
      "name": "KoGPT2_chatbot_pytorch",
      "provenance": []
    },
    "kernelspec": {
      "display_name": "Python 3.9.12 ('base')",
      "language": "python",
      "name": "python3"
    },
    "language_info": {
      "codemirror_mode": {
        "name": "ipython",
        "version": 3
      },
      "file_extension": ".py",
      "mimetype": "text/x-python",
      "name": "python",
      "nbconvert_exporter": "python",
      "pygments_lexer": "ipython3",
      "version": "3.9.12"
    },
    "vscode": {
      "interpreter": {
        "hash": "ad2bdc8ecc057115af97d19610ffacc2b4e99fae6737bb82f5d7fb13d2f2c186"
      }
    }
  },
  "nbformat": 4,
  "nbformat_minor": 0
}
